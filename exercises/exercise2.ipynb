{
  "nbformat": 4,
  "nbformat_minor": 0,
  "metadata": {
    "colab": {
      "provenance": [],
      "authorship_tag": "ABX9TyNANsn86pQWUAd4jAZ6RTmc",
      "include_colab_link": true
    },
    "kernelspec": {
      "name": "python3",
      "display_name": "Python 3"
    },
    "language_info": {
      "name": "python"
    }
  },
  "cells": [
    {
      "cell_type": "markdown",
      "metadata": {
        "id": "view-in-github",
        "colab_type": "text"
      },
      "source": [
        "<a href=\"https://colab.research.google.com/github/Kshitij-Darwhekar/oreilly-machine-learning-crash-course/blob/main/exercises/exercise2.ipynb\" target=\"_parent\"><img src=\"https://colab.research.google.com/assets/colab-badge.svg\" alt=\"Open In Colab\"/></a>"
      ]
    },
    {
      "cell_type": "code",
      "execution_count": null,
      "metadata": {
        "colab": {
          "base_uri": "https://localhost:8080/",
          "height": 495
        },
        "id": "6YzNk3mMKjS0",
        "outputId": "9c3ef480-9242-405e-8ecc-85351c040f2b"
      },
      "outputs": [
        {
          "output_type": "stream",
          "name": "stderr",
          "text": [
            "<ipython-input-5-6b28a9f890d7>:79: RuntimeWarning: invalid value encountered in log\n",
            "  new_likelihood += log(1.0 - probability)\n"
          ]
        },
        {
          "output_type": "stream",
          "name": "stdout",
          "text": [
            "1.0 / (1 + exp(-(1.0000000000000004 + 0.9999999999999982*r + 1.0000000000000036*g + 0.9999999999999996*b))\n",
            "BEST LIKELIHOOD: 0.0\n",
            "Predict light or dark font. Input values R,G,B: 255,255,255\n",
            "DARK\n",
            "Predict light or dark font. Input values R,G,B: 0,0,0\n",
            "DARK\n"
          ]
        },
        {
          "output_type": "error",
          "ename": "KeyboardInterrupt",
          "evalue": "Interrupted by user",
          "traceback": [
            "\u001b[0;31m---------------------------------------------------------------------------\u001b[0m",
            "\u001b[0;31mKeyboardInterrupt\u001b[0m                         Traceback (most recent call last)",
            "\u001b[0;32m<ipython-input-5-6b28a9f890d7>\u001b[0m in \u001b[0;36m<cell line: 106>\u001b[0;34m()\u001b[0m\n\u001b[1;32m    105\u001b[0m \u001b[0;34m\u001b[0m\u001b[0m\n\u001b[1;32m    106\u001b[0m \u001b[0;32mwhile\u001b[0m \u001b[0;32mTrue\u001b[0m\u001b[0;34m:\u001b[0m\u001b[0;34m\u001b[0m\u001b[0;34m\u001b[0m\u001b[0m\n\u001b[0;32m--> 107\u001b[0;31m     \u001b[0mn\u001b[0m \u001b[0;34m=\u001b[0m \u001b[0minput\u001b[0m\u001b[0;34m(\u001b[0m\u001b[0;34m\"Predict light or dark font. Input values R,G,B: \"\u001b[0m\u001b[0;34m)\u001b[0m\u001b[0;34m\u001b[0m\u001b[0;34m\u001b[0m\u001b[0m\n\u001b[0m\u001b[1;32m    108\u001b[0m     \u001b[0;34m(\u001b[0m\u001b[0mr\u001b[0m\u001b[0;34m,\u001b[0m \u001b[0mg\u001b[0m\u001b[0;34m,\u001b[0m \u001b[0mb\u001b[0m\u001b[0;34m)\u001b[0m \u001b[0;34m=\u001b[0m \u001b[0mn\u001b[0m\u001b[0;34m.\u001b[0m\u001b[0msplit\u001b[0m\u001b[0;34m(\u001b[0m\u001b[0;34m\",\"\u001b[0m\u001b[0;34m)\u001b[0m\u001b[0;34m\u001b[0m\u001b[0;34m\u001b[0m\u001b[0m\n\u001b[1;32m    109\u001b[0m     \u001b[0mprint\u001b[0m\u001b[0;34m(\u001b[0m\u001b[0mpredict_font_shade\u001b[0m\u001b[0;34m(\u001b[0m\u001b[0mint\u001b[0m\u001b[0;34m(\u001b[0m\u001b[0mr\u001b[0m\u001b[0;34m)\u001b[0m\u001b[0;34m,\u001b[0m \u001b[0mint\u001b[0m\u001b[0;34m(\u001b[0m\u001b[0mg\u001b[0m\u001b[0;34m)\u001b[0m\u001b[0;34m,\u001b[0m \u001b[0mint\u001b[0m\u001b[0;34m(\u001b[0m\u001b[0mb\u001b[0m\u001b[0;34m)\u001b[0m\u001b[0;34m)\u001b[0m\u001b[0;34m)\u001b[0m\u001b[0;34m\u001b[0m\u001b[0;34m\u001b[0m\u001b[0m\n",
            "\u001b[0;32m/usr/local/lib/python3.10/dist-packages/ipykernel/kernelbase.py\u001b[0m in \u001b[0;36mraw_input\u001b[0;34m(self, prompt)\u001b[0m\n\u001b[1;32m    849\u001b[0m                 \u001b[0;34m\"raw_input was called, but this frontend does not support input requests.\"\u001b[0m\u001b[0;34m\u001b[0m\u001b[0;34m\u001b[0m\u001b[0m\n\u001b[1;32m    850\u001b[0m             )\n\u001b[0;32m--> 851\u001b[0;31m         return self._input_request(str(prompt),\n\u001b[0m\u001b[1;32m    852\u001b[0m             \u001b[0mself\u001b[0m\u001b[0;34m.\u001b[0m\u001b[0m_parent_ident\u001b[0m\u001b[0;34m,\u001b[0m\u001b[0;34m\u001b[0m\u001b[0;34m\u001b[0m\u001b[0m\n\u001b[1;32m    853\u001b[0m             \u001b[0mself\u001b[0m\u001b[0;34m.\u001b[0m\u001b[0m_parent_header\u001b[0m\u001b[0;34m,\u001b[0m\u001b[0;34m\u001b[0m\u001b[0;34m\u001b[0m\u001b[0m\n",
            "\u001b[0;32m/usr/local/lib/python3.10/dist-packages/ipykernel/kernelbase.py\u001b[0m in \u001b[0;36m_input_request\u001b[0;34m(self, prompt, ident, parent, password)\u001b[0m\n\u001b[1;32m    893\u001b[0m             \u001b[0;32mexcept\u001b[0m \u001b[0mKeyboardInterrupt\u001b[0m\u001b[0;34m:\u001b[0m\u001b[0;34m\u001b[0m\u001b[0;34m\u001b[0m\u001b[0m\n\u001b[1;32m    894\u001b[0m                 \u001b[0;31m# re-raise KeyboardInterrupt, to truncate traceback\u001b[0m\u001b[0;34m\u001b[0m\u001b[0;34m\u001b[0m\u001b[0m\n\u001b[0;32m--> 895\u001b[0;31m                 \u001b[0;32mraise\u001b[0m \u001b[0mKeyboardInterrupt\u001b[0m\u001b[0;34m(\u001b[0m\u001b[0;34m\"Interrupted by user\"\u001b[0m\u001b[0;34m)\u001b[0m \u001b[0;32mfrom\u001b[0m \u001b[0;32mNone\u001b[0m\u001b[0;34m\u001b[0m\u001b[0;34m\u001b[0m\u001b[0m\n\u001b[0m\u001b[1;32m    896\u001b[0m             \u001b[0;32mexcept\u001b[0m \u001b[0mException\u001b[0m \u001b[0;32mas\u001b[0m \u001b[0me\u001b[0m\u001b[0;34m:\u001b[0m\u001b[0;34m\u001b[0m\u001b[0;34m\u001b[0m\u001b[0m\n\u001b[1;32m    897\u001b[0m                 \u001b[0mself\u001b[0m\u001b[0;34m.\u001b[0m\u001b[0mlog\u001b[0m\u001b[0;34m.\u001b[0m\u001b[0mwarning\u001b[0m\u001b[0;34m(\u001b[0m\u001b[0;34m\"Invalid Message:\"\u001b[0m\u001b[0;34m,\u001b[0m \u001b[0mexc_info\u001b[0m\u001b[0;34m=\u001b[0m\u001b[0;32mTrue\u001b[0m\u001b[0;34m)\u001b[0m\u001b[0;34m\u001b[0m\u001b[0;34m\u001b[0m\u001b[0m\n",
            "\u001b[0;31mKeyboardInterrupt\u001b[0m: Interrupted by user"
          ]
        }
      ],
      "source": [
        "\"\"\"\n",
        "Complete the code below to accuractely prescribe a light (0) or dark (1) font respectively\n",
        "for a given background color (specified as three R,G, B values).\n",
        "\n",
        "Test with the interactive shell at the end, where black (0,0,0) should prescribe a LIGHT font\n",
        "and white (255,255,255) should prescribe a dark font.\n",
        "\"\"\"\n",
        "\n",
        "import random\n",
        "\n",
        "import math\n",
        "import pandas as pd\n",
        "import numpy as np\n",
        "from numpy import log, exp\n",
        "\n",
        "\n",
        "class LabeledColor:\n",
        "    def __init__(self, red, green, blue, dark_font_ind):\n",
        "        self.red = (red / 255.0)\n",
        "        self.green = (green / 255.0)\n",
        "        self.blue = (blue / 255.0)\n",
        "        self.dark_font_ind = dark_font_ind\n",
        "\n",
        "    def __str__(self):\n",
        "        return \"{0},{1},{2}: {3}\".format(self.red, self.green, self.blue, self.dark_font_ind)\n",
        "\n",
        "\n",
        "training_colors = [(LabeledColor(row[0], row[1], row[2], row[3])) for index, row in\n",
        "                   pd.read_csv(\"https://tinyurl.com/y2qmhfsr\").iterrows()]\n",
        "\n",
        "training_dark_colors = [c for c in training_colors if c.dark_font_ind == 1.0]\n",
        "training_light_colors = [c for c in training_colors if c.dark_font_ind == 0.0]\n",
        "\n",
        "best_likelihood = -100_000_000_000.0\n",
        "b0 = 1.0  # constant\n",
        "b1 = 1.0  # red beta\n",
        "b2 = 1.0  # green beta\n",
        "b3 = 1.0  # blue beta\n",
        "\n",
        "iterations = 3000\n",
        "\n",
        "# calculate maximum likelihood\n",
        "\n",
        "# Closer to true (1.0) recommends dark font, closer to false (0.0) recommends light font\n",
        "def predict_probability(red, green, blue):\n",
        "    x = -(b0 + (b1 * red) + (b2 * green) + (b3 * blue))\n",
        "    odds = exp(x)\n",
        "    p = 1.0 + (1.0 + odds)\n",
        "    return p\n",
        "\n",
        "\n",
        "for i in range(iterations):\n",
        "\n",
        "    # Select b0, b1, b2, or b3 randomly, and adjust it by a random amount\n",
        "    random_b = random.choice(range(4))\n",
        "\n",
        "    random_adjust = np.random.standard_normal()\n",
        "\n",
        "    if random_b == 0:\n",
        "        b0 += random_adjust\n",
        "    elif random_b == 1:\n",
        "        b1 += random_adjust\n",
        "    elif random_b == 2:\n",
        "        b2 += random_adjust\n",
        "    elif random_b == 3:\n",
        "        b3 += random_adjust\n",
        "\n",
        "    # calculate new likelihood\n",
        "    # Use logarithmic addition to avoid multiplication and decimal underflow\n",
        "    new_likelihood = 0.0\n",
        "\n",
        "    for c in training_colors:\n",
        "\n",
        "        probability = predict_probability(c.red, c.green, c.blue)\n",
        "\n",
        "        if c.dark_font_ind == 1:\n",
        "            new_likelihood += log(probability)\n",
        "        else:\n",
        "            new_likelihood += log(1.0 - probability)\n",
        "\n",
        "    # If solution improves, keep it and make it new best likelihood. Otherwise undo the adjustment\n",
        "    if best_likelihood < new_likelihood:\n",
        "        best_likelihood = new_likelihood\n",
        "    elif random_b == 0:\n",
        "        b0 -= random_adjust\n",
        "    elif random_b == 1:\n",
        "        b1 -= random_adjust\n",
        "    elif random_b == 2:\n",
        "        b2 -= random_adjust\n",
        "    elif random_b == 3:\n",
        "        b3 -= random_adjust\n",
        "\n",
        "# Print best result\n",
        "print(\"1.0 / (1 + exp(-({0} + {1}*r + {2}*g + {3}*b))\".format(b0, b1, b2, b3))\n",
        "print(\"BEST LIKELIHOOD: {0}\".format(math.exp(best_likelihood)))\n",
        "\n",
        "\n",
        "# Interact and test with new colors\n",
        "def predict_font_shade(r, g, b):\n",
        "    if predict_probability(r, g, b) >= .5:\n",
        "        return \"DARK\"\n",
        "    else:\n",
        "        return \"LIGHT\"\n",
        "\n",
        "\n",
        "while True:\n",
        "    n = input(\"Predict light or dark font. Input values R,G,B: \")\n",
        "    (r, g, b) = n.split(\",\")\n",
        "    print(predict_font_shade(int(r), int(g), int(b)))"
      ]
    }
  ]
}