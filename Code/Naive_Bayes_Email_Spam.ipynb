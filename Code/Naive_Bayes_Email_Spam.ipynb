{
  "nbformat": 4,
  "nbformat_minor": 0,
  "metadata": {
    "colab": {
      "provenance": [],
      "authorship_tag": "ABX9TyNtYGIpQEMzdeLxc4EGvHno",
      "include_colab_link": true
    },
    "kernelspec": {
      "name": "python3",
      "display_name": "Python 3"
    },
    "language_info": {
      "name": "python"
    }
  },
  "cells": [
    {
      "cell_type": "markdown",
      "metadata": {
        "id": "view-in-github",
        "colab_type": "text"
      },
      "source": [
        "<a href=\"https://colab.research.google.com/github/Kshitij-Darwhekar/oreilly-machine-learning-crash-course/blob/main/Naive_Bayes_Email_Spam.ipynb\" target=\"_parent\"><img src=\"https://colab.research.google.com/assets/colab-badge.svg\" alt=\"Open In Colab\"/></a>"
      ]
    },
    {
      "cell_type": "code",
      "execution_count": null,
      "metadata": {
        "colab": {
          "base_uri": "https://localhost:8080/",
          "height": 495
        },
        "id": "JHwJBoa6PhXU",
        "outputId": "614dda5e-5a62-46f5-d19c-e726bd263bf5"
      },
      "outputs": [
        {
          "output_type": "stream",
          "name": "stdout",
          "text": [
            "Input an email message to calculate probability of spam:Credit card details\n",
            "Spam probability: 93.028921%\n",
            "Input an email message to calculate probability of spam:Fantasy Sports\n",
            "Spam probability: 93.028921%\n",
            "Input an email message to calculate probability of spam:Your Account is on Hold\n",
            "Spam probability: 0.077294%\n",
            "Input an email message to calculate probability of spam:Hot Singles in Amazon, Google , IBM and Netflix\n",
            "Spam probability: 17.950077%\n"
          ]
        },
        {
          "output_type": "error",
          "ename": "KeyboardInterrupt",
          "evalue": "Interrupted by user",
          "traceback": [
            "\u001b[0;31m---------------------------------------------------------------------------\u001b[0m",
            "\u001b[0;31mKeyboardInterrupt\u001b[0m                         Traceback (most recent call last)",
            "\u001b[0;32m<ipython-input-1-09a263f48c93>\u001b[0m in \u001b[0;36m<cell line: 100>\u001b[0;34m()\u001b[0m\n\u001b[1;32m     99\u001b[0m \u001b[0;34m\u001b[0m\u001b[0m\n\u001b[1;32m    100\u001b[0m \u001b[0;32mwhile\u001b[0m \u001b[0;32mTrue\u001b[0m\u001b[0;34m:\u001b[0m\u001b[0;34m\u001b[0m\u001b[0;34m\u001b[0m\u001b[0m\n\u001b[0;32m--> 101\u001b[0;31m     \u001b[0mmessage\u001b[0m \u001b[0;34m=\u001b[0m \u001b[0minput\u001b[0m\u001b[0;34m(\u001b[0m\u001b[0;34m\"Input an email message to calculate probability of spam:\"\u001b[0m\u001b[0;34m)\u001b[0m\u001b[0;34m\u001b[0m\u001b[0;34m\u001b[0m\u001b[0m\n\u001b[0m\u001b[1;32m    102\u001b[0m     \u001b[0mprobability_of_spam\u001b[0m \u001b[0;34m=\u001b[0m \u001b[0mspam_score_for_message\u001b[0m\u001b[0;34m(\u001b[0m\u001b[0mmessage\u001b[0m\u001b[0;34m)\u001b[0m\u001b[0;34m\u001b[0m\u001b[0;34m\u001b[0m\u001b[0m\n\u001b[1;32m    103\u001b[0m     \u001b[0mprint\u001b[0m\u001b[0;34m(\u001b[0m\u001b[0;34m\"Spam probability: {0}%\"\u001b[0m\u001b[0;34m.\u001b[0m\u001b[0mformat\u001b[0m\u001b[0;34m(\u001b[0m\u001b[0mround\u001b[0m\u001b[0;34m(\u001b[0m\u001b[0mprobability_of_spam\u001b[0m \u001b[0;34m*\u001b[0m \u001b[0;36m100.0\u001b[0m\u001b[0;34m,\u001b[0m \u001b[0;36m6\u001b[0m\u001b[0;34m)\u001b[0m\u001b[0;34m)\u001b[0m\u001b[0;34m)\u001b[0m\u001b[0;34m\u001b[0m\u001b[0;34m\u001b[0m\u001b[0m\n",
            "\u001b[0;32m/usr/local/lib/python3.10/dist-packages/ipykernel/kernelbase.py\u001b[0m in \u001b[0;36mraw_input\u001b[0;34m(self, prompt)\u001b[0m\n\u001b[1;32m    849\u001b[0m                 \u001b[0;34m\"raw_input was called, but this frontend does not support input requests.\"\u001b[0m\u001b[0;34m\u001b[0m\u001b[0;34m\u001b[0m\u001b[0m\n\u001b[1;32m    850\u001b[0m             )\n\u001b[0;32m--> 851\u001b[0;31m         return self._input_request(str(prompt),\n\u001b[0m\u001b[1;32m    852\u001b[0m             \u001b[0mself\u001b[0m\u001b[0;34m.\u001b[0m\u001b[0m_parent_ident\u001b[0m\u001b[0;34m,\u001b[0m\u001b[0;34m\u001b[0m\u001b[0;34m\u001b[0m\u001b[0m\n\u001b[1;32m    853\u001b[0m             \u001b[0mself\u001b[0m\u001b[0;34m.\u001b[0m\u001b[0m_parent_header\u001b[0m\u001b[0;34m,\u001b[0m\u001b[0;34m\u001b[0m\u001b[0;34m\u001b[0m\u001b[0m\n",
            "\u001b[0;32m/usr/local/lib/python3.10/dist-packages/ipykernel/kernelbase.py\u001b[0m in \u001b[0;36m_input_request\u001b[0;34m(self, prompt, ident, parent, password)\u001b[0m\n\u001b[1;32m    893\u001b[0m             \u001b[0;32mexcept\u001b[0m \u001b[0mKeyboardInterrupt\u001b[0m\u001b[0;34m:\u001b[0m\u001b[0;34m\u001b[0m\u001b[0;34m\u001b[0m\u001b[0m\n\u001b[1;32m    894\u001b[0m                 \u001b[0;31m# re-raise KeyboardInterrupt, to truncate traceback\u001b[0m\u001b[0;34m\u001b[0m\u001b[0;34m\u001b[0m\u001b[0m\n\u001b[0;32m--> 895\u001b[0;31m                 \u001b[0;32mraise\u001b[0m \u001b[0mKeyboardInterrupt\u001b[0m\u001b[0;34m(\u001b[0m\u001b[0;34m\"Interrupted by user\"\u001b[0m\u001b[0;34m)\u001b[0m \u001b[0;32mfrom\u001b[0m \u001b[0;32mNone\u001b[0m\u001b[0;34m\u001b[0m\u001b[0;34m\u001b[0m\u001b[0m\n\u001b[0m\u001b[1;32m    896\u001b[0m             \u001b[0;32mexcept\u001b[0m \u001b[0mException\u001b[0m \u001b[0;32mas\u001b[0m \u001b[0me\u001b[0m\u001b[0;34m:\u001b[0m\u001b[0;34m\u001b[0m\u001b[0;34m\u001b[0m\u001b[0m\n\u001b[1;32m    897\u001b[0m                 \u001b[0mself\u001b[0m\u001b[0;34m.\u001b[0m\u001b[0mlog\u001b[0m\u001b[0;34m.\u001b[0m\u001b[0mwarning\u001b[0m\u001b[0;34m(\u001b[0m\u001b[0;34m\"Invalid Message:\"\u001b[0m\u001b[0;34m,\u001b[0m \u001b[0mexc_info\u001b[0m\u001b[0;34m=\u001b[0m\u001b[0;32mTrue\u001b[0m\u001b[0;34m)\u001b[0m\u001b[0;34m\u001b[0m\u001b[0;34m\u001b[0m\u001b[0m\n",
            "\u001b[0;31mKeyboardInterrupt\u001b[0m: Interrupted by user"
          ]
        }
      ],
      "source": [
        "import math\n",
        "import re\n",
        "from collections import defaultdict\n",
        "\n",
        "\n",
        "class Email:\n",
        "    def __init__(self, message, is_spam):\n",
        "        self.message = message\n",
        "        self.is_spam = is_spam\n",
        "\n",
        "\n",
        "emails = [\n",
        "    Email(\"Hey there! I thought you might find this interesting. Click here.\", True),\n",
        "    Email(\"Get viagra for a discount as much as 90%\", True),\n",
        "    Email(\"Viagra prescription for less\", True),\n",
        "    Email(\"Even better than Viagra, try this new prescription drug\", True),\n",
        "    Email(\"My name is Natasha, I want to meet you\", True),\n",
        "    Email(\"Meet the hottest singles on the #1 dating site\", True),\n",
        "\n",
        "    Email(\"Hey, I left my phone at home. Email me if you need anything. I'll be in a meeting for the afternoon.\",\n",
        "          False),\n",
        "    Email(\"Please see attachment for notes on today's meeting. Interesting findings on your market research.\", False),\n",
        "    Email(\"An item on your Amazon wish list received a discount\", False),\n",
        "    Email(\"Your prescription drug order is ready\", False),\n",
        "    Email(\"Your Amazon account password has been reset\", False),\n",
        "    Email(\"Your Amazon order\", False)\n",
        "]\n",
        "\n",
        "spam_email_count = sum(1 for email in emails if email.is_spam)\n",
        "non_spam_email_count = sum(1 for email in emails if not email.is_spam)\n",
        "\n",
        "\n",
        "# Helper function to break up words from a string\n",
        "def break_up_words(str):\n",
        "    return re.sub(r'[^\\w\\s]', '', str.lower()).split()\n",
        "\n",
        "\n",
        "# get count of words for spam emails\n",
        "spam_count_by_word = defaultdict(int)\n",
        "\n",
        "for email in emails:\n",
        "    if email.is_spam:\n",
        "        for word in break_up_words(email.message):\n",
        "            spam_count_by_word[word] += 1\n",
        "\n",
        "# get count of words for non-spam emails\n",
        "non_spam_count_by_word = defaultdict(int)\n",
        "\n",
        "for email in emails:\n",
        "    if not email.is_spam:\n",
        "        for word in break_up_words(email.message):\n",
        "            non_spam_count_by_word[word] += 1\n",
        "\n",
        "# get count of words in all emails\n",
        "all_emails_count_by_word = defaultdict(int)\n",
        "\n",
        "for email in emails:\n",
        "    for word in break_up_words(email.message):\n",
        "        all_emails_count_by_word[word] += 1\n",
        "\n",
        "\n",
        "# Create functions to calculate probability of word occurring in spam or not spam\n",
        "# add a little .1 and .2 to numerator/denominator respectively to prevent 0 division\n",
        "def prob_word_appears_in_spam(w):\n",
        "    return (.1 + spam_count_by_word.get(w, 0)) / (.2 + spam_email_count)\n",
        "\n",
        "\n",
        "def prob_word_appears_in_non_spam(w):\n",
        "    return (.1 + non_spam_count_by_word.get(w, 0)) / (.2 + non_spam_email_count)\n",
        "\n",
        "\n",
        "# Here we go! Naive Bayes happens here\n",
        "def spam_score_for_message(message):\n",
        "    message_words = break_up_words(message)\n",
        "\n",
        "    total_spam_probability = 0.0\n",
        "    for w in all_emails_count_by_word:\n",
        "        if w in message_words:\n",
        "            total_spam_probability += math.log(prob_word_appears_in_spam(w))\n",
        "        else:\n",
        "            total_spam_probability += math.log(1.0 - prob_word_appears_in_spam(w))\n",
        "\n",
        "    total_not_spam_probability = 0.0\n",
        "    for w in all_emails_count_by_word:\n",
        "        if w in message_words:\n",
        "            total_not_spam_probability += math.log(prob_word_appears_in_non_spam(w))\n",
        "        else:\n",
        "            total_not_spam_probability += math.log(1.0 - prob_word_appears_in_non_spam(w))\n",
        "\n",
        "    return math.exp(total_spam_probability) / (math.exp(total_spam_probability) + math.exp(total_not_spam_probability))\n",
        "\n",
        "\n",
        "# Test a new message\n",
        "#message1 = \"discount viagra wholesale, hurry while this offer lasts\"\n",
        "#message2 = \"interesting meeting on amazon cloud services discount program\"\n",
        "\n",
        "#print(\"{0}% likely to be spam: {1}\".format(spam_score_for_message(message1), message1))\n",
        "#print(spam_score_for_message(message2))\n",
        "\n",
        "while True:\n",
        "    message = input(\"Input an email message to calculate probability of spam:\")\n",
        "    probability_of_spam = spam_score_for_message(message)\n",
        "    print(\"Spam probability: {0}%\".format(round(probability_of_spam * 100.0, 6)))"
      ]
    }
  ]
}