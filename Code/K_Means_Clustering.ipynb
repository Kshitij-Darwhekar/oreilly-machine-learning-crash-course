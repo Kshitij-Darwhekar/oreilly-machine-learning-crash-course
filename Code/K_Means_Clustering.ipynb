{
  "nbformat": 4,
  "nbformat_minor": 0,
  "metadata": {
    "colab": {
      "provenance": [],
      "authorship_tag": "ABX9TyOyD1ssPebFULquSCmZmIyr",
      "include_colab_link": true
    },
    "kernelspec": {
      "name": "python3",
      "display_name": "Python 3"
    },
    "language_info": {
      "name": "python"
    }
  },
  "cells": [
    {
      "cell_type": "markdown",
      "metadata": {
        "id": "view-in-github",
        "colab_type": "text"
      },
      "source": [
        "<a href=\"https://colab.research.google.com/github/Kshitij-Darwhekar/oreilly-machine-learning-crash-course/blob/main/K_Means_Clustering.ipynb\" target=\"_parent\"><img src=\"https://colab.research.google.com/assets/colab-badge.svg\" alt=\"Open In Colab\"/></a>"
      ]
    },
    {
      "cell_type": "code",
      "execution_count": null,
      "metadata": {
        "colab": {
          "base_uri": "https://localhost:8080/"
        },
        "id": "0AlLM9CYt-gh",
        "outputId": "bc98da57-3d57-4753-aa34-fda7d1f54c22"
      },
      "outputs": [
        {
          "output_type": "stream",
          "name": "stdout",
          "text": [
            "CENTROID: 9.785714285714286,9.014285714285714\n",
            "    8.4,8.2\n",
            "    10.1,9.7\n",
            "    7.6,9.1\n",
            "    11.1,8.7\n",
            "    9.6,8.9\n",
            "    11.4,7.6\n",
            "    10.3,10.9\n",
            "CENTROID: 7.500000000000001,5.257142857142857\n",
            "    8.1,6.3\n",
            "    9.4,5.3\n",
            "    8.6,4.3\n",
            "    7.2,5.5\n",
            "    6.9,4.1\n",
            "    6.1,6.3\n",
            "    6.2,5.0\n",
            "CENTROID: 2.7714285714285714,2.157142857142857\n",
            "    1.4,1.3\n",
            "    3.1,2.3\n",
            "    3.6,2.4\n",
            "    1.7,1.5\n",
            "    4.5,3.1\n",
            "    2.0,3.3\n",
            "    3.1,1.2\n",
            "CENTROID: 14.371428571428572,2.6714285714285717\n",
            "    14.1,2.1\n",
            "    16.5,3.2\n",
            "    12.5,2.8\n",
            "    15.3,4.5\n",
            "    12.1,1.8\n",
            "    15.2,1.1\n",
            "    14.9,3.2\n"
          ]
        }
      ],
      "source": [
        "import numpy as np\n",
        "import pandas as pd\n",
        "\n",
        "\n",
        "# Cluster points using k-means algorithm with average-based heuristic\n",
        "# Desmos graph: https://www.desmos.com/calculator/pb4ewmqdvy\n",
        "\n",
        "class Point:\n",
        "    def __init__(self, x, y):\n",
        "        self.x = x\n",
        "        self.y = y\n",
        "\n",
        "    def __str__(self):\n",
        "        return \"{0},{1}\".format(self.x, self.y)\n",
        "\n",
        "\n",
        "def distance_between(point1, point2):\n",
        "    return ((point2.x - point1.x) ** 2 + (point2.y - point1.y) ** 2) ** .5\n",
        "\n",
        "\n",
        "def closest_centroid_for(point):\n",
        "    for c in centroids:\n",
        "        if distance_between(point, c) == min([distance_between(point, c2) for c2 in centroids]):\n",
        "            return c\n",
        "\n",
        "\n",
        "def points_for_centroid(centroid):\n",
        "    for p in points:\n",
        "        if closest_centroid_for(p) == centroid:\n",
        "            yield p\n",
        "\n",
        "\n",
        "# There will be 4 centroids\n",
        "k = 4\n",
        "\n",
        "# Declare Point objects\n",
        "points = [(Point(row.x, row.y)) for index, row in pd.read_csv(\"https://tinyurl.com/y25lvxug\").iterrows()]\n",
        "\n",
        "# Declare centroid objects\n",
        "centroids = [Point(np.random.uniform(0,10), np.random.uniform(0,10)) for i in range(k)]\n",
        "\n",
        "# Move centroids for 1000 iterations using average technique\n",
        "for i in range(1_000):\n",
        "\n",
        "    for c in centroids:\n",
        "\n",
        "        x_sum = 0.0\n",
        "        y_sum = 0.0\n",
        "\n",
        "        clustered_points = list(points_for_centroid(c))\n",
        "\n",
        "        for p in clustered_points:\n",
        "            x_sum += p.x\n",
        "            y_sum += p.y\n",
        "\n",
        "        if len(clustered_points) > 0:\n",
        "            c.x = x_sum / len(clustered_points)\n",
        "            c.y = y_sum / len(clustered_points)\n",
        "\n",
        "# Print centroids\n",
        "for c in centroids:\n",
        "    print(\"CENTROID: {0}\".format(c))\n",
        "\n",
        "    for p in points_for_centroid(c):\n",
        "        print(\"    {0}\".format(p))"
      ]
    }
  ]
}